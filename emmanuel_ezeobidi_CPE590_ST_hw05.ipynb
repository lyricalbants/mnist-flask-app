{
 "cells": [
  {
   "cell_type": "markdown",
   "metadata": {},
   "source": [
    "## Emmanuel Ezeobidi\n",
    "#### eie0002@uah.edu"
   ]
  },
  {
   "cell_type": "code",
   "execution_count": 1,
   "metadata": {},
   "outputs": [
    {
     "name": "stderr",
     "output_type": "stream",
     "text": [
      "2025-04-13 10:02:36.521859: I tensorflow/tsl/cuda/cudart_stub.cc:28] Could not find cuda drivers on your machine, GPU will not be used.\n",
      "2025-04-13 10:02:38.135987: I tensorflow/tsl/cuda/cudart_stub.cc:28] Could not find cuda drivers on your machine, GPU will not be used.\n",
      "2025-04-13 10:02:38.141387: I tensorflow/core/platform/cpu_feature_guard.cc:182] This TensorFlow binary is optimized to use available CPU instructions in performance-critical operations.\n",
      "To enable the following instructions: AVX2 FMA, in other operations, rebuild TensorFlow with the appropriate compiler flags.\n",
      "2025-04-13 10:02:45.906314: W tensorflow/compiler/tf2tensorrt/utils/py_utils.cc:38] TF-TRT Warning: Could not find TensorRT\n"
     ]
    },
    {
     "name": "stdout",
     "output_type": "stream",
     "text": [
      "2.13.1\n"
     ]
    }
   ],
   "source": [
    "import tensorflow as tf\n",
    "print(tf.__version__)\n",
    "from tensorflow.keras.models import Sequential\n",
    "# should work without error"
   ]
  },
  {
   "cell_type": "code",
   "execution_count": 2,
   "metadata": {},
   "outputs": [],
   "source": [
    "import tensorflow as tf\n",
    "from tensorflow.keras.datasets import mnist\n",
    "from sklearn.model_selection import train_test_split\n",
    "from sklearn.preprocessing import StandardScaler\n",
    "import numpy as np\n",
    "import onnx\n",
    "import onnxruntime as ort\n",
    "\n",
    "# Load the dataset\n",
    "(X_train, y_train), (X_test, y_test) = mnist.load_data()\n",
    "\n",
    "# Normalize the pixel values\n",
    "X_train = X_train.astype(\"float32\") / 255.0\n",
    "X_test = X_test.astype(\"float32\") / 255.0\n",
    "\n",
    "# Expand dimensions to include channel\n",
    "X_train = np.expand_dims(X_train, axis=-1)\n",
    "X_test = np.expand_dims(X_test, axis=-1)\n",
    "\n",
    "# Merge original train and test to resplit\n",
    "X = np.concatenate((X_train, X_test), axis=0)\n",
    "y = np.concatenate((y_train, y_test), axis=0)\n",
    "X_train, X_test, y_train, y_test = train_test_split(X, y, test_size=1/3, random_state=42)\n",
    "\n",
    "# Convert to PyTorch tensors\n",
    "#X_train_tensor = torch.FloatTensor(X_train)\n",
    "#y_train_tensor = torch.LongTensor(y_train)\n",
    "#X_test_tensor = torch.FloatTensor(X_test)\n",
    "#y_test_tensor = torch.LongTensor(y_test)"
   ]
  },
  {
   "cell_type": "code",
   "execution_count": 3,
   "metadata": {},
   "outputs": [],
   "source": [
    "from tensorflow.keras.models import Sequential\n",
    "from tensorflow.keras.layers import Conv2D, MaxPooling2D, Flatten, Dense, Dropout"
   ]
  },
  {
   "cell_type": "code",
   "execution_count": 5,
   "metadata": {},
   "outputs": [],
   "source": [
    "model = Sequential([\n",
    "    Conv2D(32, kernel_size=(3, 3), activation='relu', input_shape=(28, 28, 1)),\n",
    "    MaxPooling2D(pool_size=(2, 2)),\n",
    "    Conv2D(64, kernel_size=(3, 3), activation='relu'),\n",
    "    MaxPooling2D(pool_size=(2, 2)),\n",
    "    Flatten(),\n",
    "    Dense(128, activation='relu'),\n",
    "    Dropout(0.5),\n",
    "    Dense(10, activation='softmax')\n",
    "])\n",
    "\n",
    "# Compile the model with a chosen optimizer and loss function\n",
    "model.compile(optimizer='adam', loss='sparse_categorical_crossentropy', metrics=['accuracy'])\n"
   ]
  },
  {
   "cell_type": "code",
   "execution_count": 7,
   "metadata": {},
   "outputs": [
    {
     "name": "stderr",
     "output_type": "stream",
     "text": [
      "2025-04-13 10:04:56.816462: W tensorflow/tsl/framework/cpu_allocator_impl.cc:83] Allocation of 131708864 exceeds 10% of free system memory.\n"
     ]
    },
    {
     "name": "stdout",
     "output_type": "stream",
     "text": [
      "Epoch 1/20\n",
      "329/329 [==============================] - 131s 386ms/step - loss: 0.3645 - accuracy: 0.8861 - val_loss: 0.0833 - val_accuracy: 0.9747 - lr: 0.0010\n",
      "Epoch 2/20\n",
      "329/329 [==============================] - 96s 290ms/step - loss: 0.1143 - accuracy: 0.9669 - val_loss: 0.0558 - val_accuracy: 0.9833 - lr: 0.0010\n",
      "Epoch 3/20\n",
      "329/329 [==============================] - 100s 304ms/step - loss: 0.0856 - accuracy: 0.9735 - val_loss: 0.0466 - val_accuracy: 0.9869 - lr: 0.0010\n",
      "Epoch 4/20\n",
      "329/329 [==============================] - 82s 248ms/step - loss: 0.0666 - accuracy: 0.9798 - val_loss: 0.0423 - val_accuracy: 0.9869 - lr: 0.0010\n",
      "Epoch 5/20\n",
      "329/329 [==============================] - 87s 263ms/step - loss: 0.0572 - accuracy: 0.9829 - val_loss: 0.0395 - val_accuracy: 0.9880 - lr: 0.0010\n",
      "Epoch 6/20\n",
      "329/329 [==============================] - 64s 195ms/step - loss: 0.0479 - accuracy: 0.9851 - val_loss: 0.0394 - val_accuracy: 0.9891 - lr: 9.0000e-04\n",
      "Epoch 7/20\n",
      "329/329 [==============================] - 68s 206ms/step - loss: 0.0430 - accuracy: 0.9869 - val_loss: 0.0404 - val_accuracy: 0.9897 - lr: 9.0000e-04\n",
      "Epoch 8/20\n",
      "329/329 [==============================] - 126s 382ms/step - loss: 0.0370 - accuracy: 0.9885 - val_loss: 0.0356 - val_accuracy: 0.9891 - lr: 9.0000e-04\n",
      "Epoch 9/20\n",
      "329/329 [==============================] - 139s 422ms/step - loss: 0.0344 - accuracy: 0.9891 - val_loss: 0.0346 - val_accuracy: 0.9897 - lr: 9.0000e-04\n",
      "Epoch 10/20\n",
      "329/329 [==============================] - 111s 337ms/step - loss: 0.0314 - accuracy: 0.9896 - val_loss: 0.0314 - val_accuracy: 0.9929 - lr: 9.0000e-04\n",
      "Epoch 11/20\n",
      "329/329 [==============================] - 96s 292ms/step - loss: 0.0267 - accuracy: 0.9915 - val_loss: 0.0385 - val_accuracy: 0.9906 - lr: 8.1000e-04\n",
      "Epoch 12/20\n",
      "329/329 [==============================] - 99s 301ms/step - loss: 0.0262 - accuracy: 0.9910 - val_loss: 0.0408 - val_accuracy: 0.9893 - lr: 8.1000e-04\n",
      "Epoch 13/20\n",
      "329/329 [==============================] - 95s 287ms/step - loss: 0.0234 - accuracy: 0.9925 - val_loss: 0.0374 - val_accuracy: 0.9916 - lr: 8.1000e-04\n",
      "Epoch 14/20\n",
      "329/329 [==============================] - 97s 294ms/step - loss: 0.0207 - accuracy: 0.9932 - val_loss: 0.0362 - val_accuracy: 0.9916 - lr: 8.1000e-04\n",
      "Epoch 15/20\n",
      "329/329 [==============================] - 118s 357ms/step - loss: 0.0193 - accuracy: 0.9935 - val_loss: 0.0374 - val_accuracy: 0.9910 - lr: 8.1000e-04\n",
      "Epoch 16/20\n",
      "329/329 [==============================] - 126s 384ms/step - loss: 0.0175 - accuracy: 0.9946 - val_loss: 0.0388 - val_accuracy: 0.9904 - lr: 7.2900e-04\n",
      "Epoch 17/20\n",
      "329/329 [==============================] - 126s 383ms/step - loss: 0.0167 - accuracy: 0.9943 - val_loss: 0.0349 - val_accuracy: 0.9914 - lr: 7.2900e-04\n",
      "Epoch 18/20\n",
      "329/329 [==============================] - 109s 331ms/step - loss: 0.0169 - accuracy: 0.9940 - val_loss: 0.0416 - val_accuracy: 0.9916 - lr: 7.2900e-04\n",
      "Epoch 19/20\n",
      "329/329 [==============================] - 66s 201ms/step - loss: 0.0161 - accuracy: 0.9948 - val_loss: 0.0382 - val_accuracy: 0.9921 - lr: 7.2900e-04\n",
      "Epoch 20/20\n",
      "329/329 [==============================] - 69s 210ms/step - loss: 0.0147 - accuracy: 0.9948 - val_loss: 0.0370 - val_accuracy: 0.9910 - lr: 7.2900e-04\n"
     ]
    }
   ],
   "source": [
    "from tensorflow.keras.callbacks import LearningRateScheduler\n",
    "\n",
    "def scheduler(epoch, lr):\n",
    "    # Reduce LR by 10% every 5 epochs\n",
    "    return lr * 0.9 if epoch % 5 == 0 and epoch != 0 else lr\n",
    "\n",
    "lr_scheduler = LearningRateScheduler(scheduler)\n",
    "\n",
    "# Train the model with validation split\n",
    "history = model.fit(X_train, y_train, \n",
    "                    validation_split=0.1, \n",
    "                    epochs=20, \n",
    "                    batch_size=128, \n",
    "                    callbacks=[lr_scheduler])\n"
   ]
  },
  {
   "cell_type": "code",
   "execution_count": 8,
   "metadata": {},
   "outputs": [
    {
     "name": "stderr",
     "output_type": "stream",
     "text": [
      "2025-04-13 10:39:34.512730: I tensorflow/core/grappler/devices.cc:66] Number of eligible GPUs (core count >= 8, compute capability >= 0.0): 0\n",
      "2025-04-13 10:39:34.514767: I tensorflow/core/grappler/clusters/single_machine.cc:357] Starting new session\n",
      "2025-04-13 10:39:34.908176: I tensorflow/core/grappler/devices.cc:66] Number of eligible GPUs (core count >= 8, compute capability >= 0.0): 0\n",
      "2025-04-13 10:39:34.914061: I tensorflow/core/grappler/clusters/single_machine.cc:357] Starting new session\n"
     ]
    },
    {
     "name": "stdout",
     "output_type": "stream",
     "text": [
      "Model successfully converted to ONNX!\n"
     ]
    }
   ],
   "source": [
    "import tf2onnx\n",
    "import onnx\n",
    "\n",
    "spec = (tf.TensorSpec(model.input.shape, tf.float32, name=\"input\"),)\n",
    "\n",
    "# Convert the model\n",
    "model_proto, external_tensor_storage = tf2onnx.convert.from_keras(\n",
    "    model,\n",
    "    input_signature=spec,\n",
    "    output_path=\"mnist_model.onnx\"\n",
    ")\n",
    "\n",
    "print(\"Model successfully converted to ONNX!\")\n"
   ]
  },
  {
   "cell_type": "code",
   "execution_count": 11,
   "metadata": {},
   "outputs": [
    {
     "data": {
      "image/png": "[encoded data removed]",
      "text/plain": [
       "<Figure size 640x480 with 1 Axes>"
      ]
     },
     "metadata": {},
     "output_type": "display_data"
    },
    {
     "data": {
      "image/png": "[encoded data removed]",
      "text/plain": [
       "<Figure size 640x480 with 1 Axes>"
      ]
     },
     "metadata": {},
     "output_type": "display_data"
    },
    {
     "data": {
      "image/png": "[encoded data removed]",
      "text/plain": [
       "<Figure size 640x480 with 1 Axes>"
      ]
     },
     "metadata": {},
     "output_type": "display_data"
    },
    {
     "data": {
      "image/png": "[encoded data removed]",
      "text/plain": [
       "<Figure size 640x480 with 1 Axes>"
      ]
     },
     "metadata": {},
     "output_type": "display_data"
    },
    {
     "data": {
      "image/png": "[encoded data removed]",
      "text/plain": [
       "<Figure size 640x480 with 1 Axes>"
      ]
     },
     "metadata": {},
     "output_type": "display_data"
    }
   ],
   "source": [
    "import matplotlib.pyplot as plt\n",
    "import random\n",
    "\n",
    "# Randomly pick 5 indices\n",
    "random_indices = random.sample(range(X_test.shape[0]), 5)\n",
    "samples = X_test[random_indices]\n",
    "\n",
    "for idx, img in enumerate(samples):\n",
    "    plt.imshow(img.squeeze(), cmap='gray')\n",
    "    plt.title(f\"Sample {idx}\")\n",
    "    plt.show()\n"
   ]
  },
  {
   "cell_type": "code",
   "execution_count": 18,
   "metadata": {},
   "outputs": [
    {
     "name": "stdout",
     "output_type": "stream",
     "text": [
      "Predicted probabilities: [[1.0600082e-16 4.0405131e-19 1.5279669e-09 3.2999435e-14 3.4606066e-22\n",
      "  1.3526391e-18 1.2667122e-20 1.5110475e-16 1.0000000e+00 7.4711138e-14]]\n"
     ]
    }
   ],
   "source": [
    "import onnxruntime as ort\n",
    "\n",
    "# Load the ONNX model\n",
    "session = ort.InferenceSession(\"mnist_model.onnx\")\n",
    "\n",
    "def predict_onnx(image):\n",
    "    # Ensure image shape is (1, 28, 28, 1)\n",
    "    if image.shape != (28, 28, 1):\n",
    "        raise ValueError(\"Image must be of shape (28,28,1)\")\n",
    "    input_name = session.get_inputs()[0].name\n",
    "    # ONNX Runtime expects float32\n",
    "    image = image.astype('float32')\n",
    "    # Add batch dimension: (1, 28, 28, 1)\n",
    "    image = np.expand_dims(image, axis=0)\n",
    "    output = session.run(None, {input_name: image})\n",
    "    return output[0]\n",
    "\n",
    "# Example: Test on one sample\n",
    "predictions = predict_onnx(X_test[0])\n",
    "print(\"Predicted probabilities:\", predictions)"
   ]
  },
  {
   "cell_type": "code",
   "execution_count": 19,
   "metadata": {},
   "outputs": [
    {
     "name": "stdout",
     "output_type": "stream",
     "text": [
      "Sum of probabilities: 1.0\n"
     ]
    }
   ],
   "source": [
    "print(\"Sum of probabilities:\", np.sum(predictions))"
   ]
  },
  {
   "cell_type": "code",
   "execution_count": 20,
   "metadata": {},
   "outputs": [
    {
     "name": "stdout",
     "output_type": "stream",
     "text": [
      "Predicted digit: 8\n"
     ]
    }
   ],
   "source": [
    "predicted_digit = np.argmax(predictions)\n",
    "print(\"Predicted digit:\", predicted_digit)"
   ]
  },
  {
   "cell_type": "code",
   "execution_count": 21,
   "metadata": {},
   "outputs": [
    {
     "name": "stdout",
     "output_type": "stream",
     "text": [
      "Actual digit: 8\n"
     ]
    }
   ],
   "source": [
    "print(\"Actual digit:\", y_test[0])"
   ]
  }
 ],
 "metadata": {
  "kernelspec": {
   "display_name": "cpe_env",
   "language": "python",
   "name": "python3"
  },
  "language_info": {
   "codemirror_mode": {
    "name": "ipython",
    "version": 3
   },
   "file_extension": ".py",
   "mimetype": "text/x-python",
   "name": "python",
   "nbconvert_exporter": "python",
   "pygments_lexer": "ipython3",
   "version": "3.9.21"
  }
 },
 "nbformat": 4,
 "nbformat_minor": 2
}
