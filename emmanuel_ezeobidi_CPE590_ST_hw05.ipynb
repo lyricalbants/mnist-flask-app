{
 "cells": [
  {
   "cell_type": "markdown",
   "metadata": {},
   "source": [
    "## Emmanuel Ezeobidi\n",
    "#### eie0002@uah.edu"
   ]
  },
  {
   "cell_type": "code",
   "execution_count": 1,
   "metadata": {},
   "outputs": [
    {
     "name": "stderr",
     "output_type": "stream",
     "text": [
      "2025-04-13 12:30:21.904764: I tensorflow/tsl/cuda/cudart_stub.cc:28] Could not find cuda drivers on your machine, GPU will not be used.\n",
      "2025-04-13 12:30:23.308377: I tensorflow/tsl/cuda/cudart_stub.cc:28] Could not find cuda drivers on your machine, GPU will not be used.\n",
      "2025-04-13 12:30:23.323997: I tensorflow/core/platform/cpu_feature_guard.cc:182] This TensorFlow binary is optimized to use available CPU instructions in performance-critical operations.\n",
      "To enable the following instructions: AVX2 FMA, in other operations, rebuild TensorFlow with the appropriate compiler flags.\n",
      "2025-04-13 12:30:31.315209: W tensorflow/compiler/tf2tensorrt/utils/py_utils.cc:38] TF-TRT Warning: Could not find TensorRT\n"
     ]
    }
   ],
   "source": [
    "import tensorflow as tf\n",
    "from tensorflow.keras.datasets import mnist\n",
    "from sklearn.model_selection import train_test_split\n",
    "from sklearn.preprocessing import StandardScaler\n",
    "import numpy as np\n",
    "import onnx\n",
    "import onnxruntime as ort\n",
    "\n",
    "# Load the dataset\n",
    "(X_train, y_train), (X_test, y_test) = mnist.load_data()\n",
    "\n",
    "# Normalize the pixel values\n",
    "X_train = X_train.astype(\"float32\") / 255.0\n",
    "X_test = X_test.astype(\"float32\") / 255.0\n",
    "\n",
    "# Expand dimensions to include channel\n",
    "X_train = np.expand_dims(X_train, axis=-1)\n",
    "X_test = np.expand_dims(X_test, axis=-1)\n",
    "\n",
    "# Merge original train and test to resplit\n",
    "X = np.concatenate((X_train, X_test), axis=0)\n",
    "y = np.concatenate((y_train, y_test), axis=0)\n",
    "X_train, X_test, y_train, y_test = train_test_split(X, y, test_size=1/3, random_state=42)"
   ]
  },
  {
   "cell_type": "code",
   "execution_count": 2,
   "metadata": {},
   "outputs": [],
   "source": [
    "from tensorflow.keras.models import Sequential\n",
    "from tensorflow.keras.layers import Conv2D, MaxPooling2D, Flatten, Dense, Dropout"
   ]
  },
  {
   "cell_type": "code",
   "execution_count": 4,
   "metadata": {},
   "outputs": [],
   "source": [
    "model = Sequential([\n",
    "    Conv2D(32, kernel_size=(3, 3), activation='relu', input_shape=(28, 28, 1)),\n",
    "    MaxPooling2D(pool_size=(2, 2)),\n",
    "    Conv2D(64, kernel_size=(3, 3), activation='relu'),\n",
    "    MaxPooling2D(pool_size=(2, 2)),\n",
    "    Flatten(),\n",
    "    Dense(128, activation='relu'),\n",
    "    Dropout(0.5),\n",
    "    Dense(10, activation='softmax')\n",
    "])\n",
    "\n",
    "# Compile the model with a chosen optimizer and loss function\n",
    "model.compile(optimizer='adam', loss='sparse_categorical_crossentropy', metrics=['accuracy'])\n"
   ]
  },
  {
   "cell_type": "code",
   "execution_count": 5,
   "metadata": {},
   "outputs": [
    {
     "name": "stderr",
     "output_type": "stream",
     "text": [
      "2025-04-13 12:31:54.574507: W tensorflow/tsl/framework/cpu_allocator_impl.cc:83] Allocation of 131708864 exceeds 10% of free system memory.\n"
     ]
    },
    {
     "name": "stdout",
     "output_type": "stream",
     "text": [
      "Epoch 1/20\n",
      "329/329 [==============================] - 69s 199ms/step - loss: 0.3660 - accuracy: 0.8874 - val_loss: 0.0845 - val_accuracy: 0.9741 - lr: 0.0010\n",
      "Epoch 2/20\n",
      "329/329 [==============================] - 46s 141ms/step - loss: 0.1163 - accuracy: 0.9652 - val_loss: 0.0611 - val_accuracy: 0.9794 - lr: 0.0010\n",
      "Epoch 3/20\n",
      "329/329 [==============================] - 47s 142ms/step - loss: 0.0867 - accuracy: 0.9739 - val_loss: 0.0452 - val_accuracy: 0.9871 - lr: 0.0010\n",
      "Epoch 4/20\n",
      "329/329 [==============================] - 45s 138ms/step - loss: 0.0712 - accuracy: 0.9789 - val_loss: 0.0400 - val_accuracy: 0.9871 - lr: 0.0010\n",
      "Epoch 5/20\n",
      "329/329 [==============================] - 49s 149ms/step - loss: 0.0590 - accuracy: 0.9817 - val_loss: 0.0349 - val_accuracy: 0.9901 - lr: 0.0010\n",
      "Epoch 6/20\n",
      "329/329 [==============================] - 46s 140ms/step - loss: 0.0483 - accuracy: 0.9850 - val_loss: 0.0390 - val_accuracy: 0.9891 - lr: 9.0000e-04\n",
      "Epoch 7/20\n",
      "329/329 [==============================] - 47s 143ms/step - loss: 0.0433 - accuracy: 0.9867 - val_loss: 0.0325 - val_accuracy: 0.9904 - lr: 9.0000e-04\n",
      "Epoch 8/20\n",
      "329/329 [==============================] - 46s 140ms/step - loss: 0.0383 - accuracy: 0.9886 - val_loss: 0.0305 - val_accuracy: 0.9921 - lr: 9.0000e-04\n",
      "Epoch 9/20\n",
      "329/329 [==============================] - 46s 141ms/step - loss: 0.0330 - accuracy: 0.9899 - val_loss: 0.0375 - val_accuracy: 0.9895 - lr: 9.0000e-04\n",
      "Epoch 10/20\n",
      "329/329 [==============================] - 47s 143ms/step - loss: 0.0315 - accuracy: 0.9907 - val_loss: 0.0365 - val_accuracy: 0.9899 - lr: 9.0000e-04\n",
      "Epoch 11/20\n",
      "329/329 [==============================] - 49s 149ms/step - loss: 0.0268 - accuracy: 0.9916 - val_loss: 0.0307 - val_accuracy: 0.9910 - lr: 8.1000e-04\n",
      "Epoch 12/20\n",
      "329/329 [==============================] - 61s 185ms/step - loss: 0.0254 - accuracy: 0.9919 - val_loss: 0.0337 - val_accuracy: 0.9912 - lr: 8.1000e-04\n",
      "Epoch 13/20\n",
      "329/329 [==============================] - 54s 165ms/step - loss: 0.0223 - accuracy: 0.9920 - val_loss: 0.0330 - val_accuracy: 0.9925 - lr: 8.1000e-04\n",
      "Epoch 14/20\n",
      "329/329 [==============================] - 45s 138ms/step - loss: 0.0221 - accuracy: 0.9931 - val_loss: 0.0294 - val_accuracy: 0.9921 - lr: 8.1000e-04\n",
      "Epoch 15/20\n",
      "329/329 [==============================] - 46s 141ms/step - loss: 0.0187 - accuracy: 0.9935 - val_loss: 0.0312 - val_accuracy: 0.9927 - lr: 8.1000e-04\n",
      "Epoch 16/20\n",
      "329/329 [==============================] - 49s 148ms/step - loss: 0.0166 - accuracy: 0.9948 - val_loss: 0.0321 - val_accuracy: 0.9934 - lr: 7.2900e-04\n",
      "Epoch 17/20\n",
      "329/329 [==============================] - 57s 172ms/step - loss: 0.0152 - accuracy: 0.9952 - val_loss: 0.0351 - val_accuracy: 0.9919 - lr: 7.2900e-04\n",
      "Epoch 18/20\n",
      "329/329 [==============================] - 52s 158ms/step - loss: 0.0158 - accuracy: 0.9950 - val_loss: 0.0365 - val_accuracy: 0.9901 - lr: 7.2900e-04\n",
      "Epoch 19/20\n",
      "329/329 [==============================] - 45s 138ms/step - loss: 0.0135 - accuracy: 0.9950 - val_loss: 0.0375 - val_accuracy: 0.9916 - lr: 7.2900e-04\n",
      "Epoch 20/20\n",
      "329/329 [==============================] - 56s 169ms/step - loss: 0.0133 - accuracy: 0.9953 - val_loss: 0.0351 - val_accuracy: 0.9923 - lr: 7.2900e-04\n"
     ]
    }
   ],
   "source": [
    "from tensorflow.keras.callbacks import LearningRateScheduler\n",
    "\n",
    "def scheduler(epoch, lr):\n",
    "    # Reduce LR by 10% every 5 epochs\n",
    "    return lr * 0.9 if epoch % 5 == 0 and epoch != 0 else lr\n",
    "\n",
    "lr_scheduler = LearningRateScheduler(scheduler)\n",
    "\n",
    "# Train the model with validation split\n",
    "history = model.fit(X_train, y_train, \n",
    "                    validation_split=0.1, \n",
    "                    epochs=20, \n",
    "                    batch_size=128, \n",
    "                    callbacks=[lr_scheduler])\n"
   ]
  },
  {
   "cell_type": "code",
   "execution_count": 6,
   "metadata": {},
   "outputs": [
    {
     "name": "stderr",
     "output_type": "stream",
     "text": [
      "2025-04-13 12:52:09.122922: I tensorflow/core/grappler/devices.cc:66] Number of eligible GPUs (core count >= 8, compute capability >= 0.0): 0\n",
      "2025-04-13 12:52:09.123391: I tensorflow/core/grappler/clusters/single_machine.cc:357] Starting new session\n",
      "2025-04-13 12:52:09.495019: I tensorflow/core/grappler/devices.cc:66] Number of eligible GPUs (core count >= 8, compute capability >= 0.0): 0\n",
      "2025-04-13 12:52:09.495710: I tensorflow/core/grappler/clusters/single_machine.cc:357] Starting new session\n"
     ]
    },
    {
     "name": "stdout",
     "output_type": "stream",
     "text": [
      "Model successfully converted to ONNX!\n"
     ]
    }
   ],
   "source": [
    "import tf2onnx\n",
    "import onnx\n",
    "\n",
    "spec = (tf.TensorSpec(model.input.shape, tf.float32, name=\"input\"),)\n",
    "\n",
    "# Convert the model\n",
    "model_proto, external_tensor_storage = tf2onnx.convert.from_keras(\n",
    "    model,\n",
    "    input_signature=spec,\n",
    "    output_path=\"mnist_model.onnx\"\n",
    ")\n",
    "\n",
    "print(\"Model successfully converted to ONNX!\")\n"
   ]
  },
  {
   "cell_type": "code",
   "execution_count": 10,
   "metadata": {},
   "outputs": [
    {
     "data": {
      "image/png": "[encoded data removed]",
      "text/plain": [
       "<Figure size 640x480 with 1 Axes>"
      ]
     },
     "metadata": {},
     "output_type": "display_data"
    },
    {
     "data": {
      "image/png": "[encoded data removed]",
      "text/plain": [
       "<Figure size 640x480 with 1 Axes>"
      ]
     },
     "metadata": {},
     "output_type": "display_data"
    },
    {
     "data": {
      "image/png": "[encoded data removed]",
      "text/plain": [
       "<Figure size 640x480 with 1 Axes>"
      ]
     },
     "metadata": {},
     "output_type": "display_data"
    },
    {
     "data": {
      "image/png": "[encoded data removed]",
      "text/plain": [
       "<Figure size 640x480 with 1 Axes>"
      ]
     },
     "metadata": {},
     "output_type": "display_data"
    },
    {
     "data": {
      "image/png": "[encoded data removed]",
      "text/plain": [
       "<Figure size 640x480 with 1 Axes>"
      ]
     },
     "metadata": {},
     "output_type": "display_data"
    },
    {
     "name": "stdout",
     "output_type": "stream",
     "text": [
      "Saved sample images in the sample folder\n"
     ]
    }
   ],
   "source": [
    "import matplotlib.pyplot as plt\n",
    "import random\n",
    "import os\n",
    "from PIL import Image\n",
    "\n",
    "# Randomly pick 5 indices\n",
    "random_indices = random.sample(range(X_test.shape[0]), 5)\n",
    "\n",
    "# Create samples directory\n",
    "sample_dir = os.path.join(\"static\", \"samples\")\n",
    "\n",
    "\n",
    "for i, idx in enumerate(random_indices):\n",
    "\n",
    "    # Get the image. Ensure it's 28x28\n",
    "    img = X_test[idx]\n",
    "\n",
    "    if img.max() <= 1.0:\n",
    "        img = (img * 255).astype(np.uint8)\n",
    "    else:\n",
    "        img = img.astype(np.uint8)\n",
    "    \n",
    "    # convert Numpy array to PIL image\n",
    "    img = np.squeeze(img)\n",
    "    pil_image = Image.fromarray(img, mode=\"L\")\n",
    "\n",
    "    # Save image in the samples folder\n",
    "    sample_filename = os.path.join(sample_dir, f\"sample{i}.png\")\n",
    "    pil_image.save(sample_filename)\n",
    "\n",
    "    # Display image\n",
    "    plt.imshow(img, cmap='gray')\n",
    "    plt.title(f\"Sample {i}\")\n",
    "    plt.axis(\"off\")\n",
    "    plt.show()\n",
    "\n",
    "print(f\"Saved sample images in the sample folder\")\n"
   ]
  },
  {
   "cell_type": "code",
   "execution_count": 18,
   "metadata": {},
   "outputs": [
    {
     "name": "stdout",
     "output_type": "stream",
     "text": [
      "Predicted probabilities: [[1.0600082e-16 4.0405131e-19 1.5279669e-09 3.2999435e-14 3.4606066e-22\n",
      "  1.3526391e-18 1.2667122e-20 1.5110475e-16 1.0000000e+00 7.4711138e-14]]\n"
     ]
    }
   ],
   "source": [
    "import onnxruntime as ort\n",
    "\n",
    "# Load the ONNX model\n",
    "session = ort.InferenceSession(\"mnist_model.onnx\")\n",
    "\n",
    "def predict_onnx(image):\n",
    "    # Ensure image shape is (1, 28, 28, 1)\n",
    "    if image.shape != (28, 28, 1):\n",
    "        raise ValueError(\"Image must be of shape (28,28,1)\")\n",
    "    input_name = session.get_inputs()[0].name\n",
    "    # ONNX Runtime expects float32\n",
    "    image = image.astype('float32')\n",
    "    # Add batch dimension: (1, 28, 28, 1)\n",
    "    image = np.expand_dims(image, axis=0)\n",
    "    output = session.run(None, {input_name: image})\n",
    "    return output[0]\n",
    "\n",
    "# Example: Test on one sample\n",
    "predictions = predict_onnx(X_test[0])\n",
    "print(\"Predicted probabilities:\", predictions)"
   ]
  },
  {
   "cell_type": "code",
   "execution_count": 19,
   "metadata": {},
   "outputs": [
    {
     "name": "stdout",
     "output_type": "stream",
     "text": [
      "Sum of probabilities: 1.0\n"
     ]
    }
   ],
   "source": [
    "print(\"Sum of probabilities:\", np.sum(predictions))"
   ]
  },
  {
   "cell_type": "code",
   "execution_count": 20,
   "metadata": {},
   "outputs": [
    {
     "name": "stdout",
     "output_type": "stream",
     "text": [
      "Predicted digit: 8\n"
     ]
    }
   ],
   "source": [
    "predicted_digit = np.argmax(predictions)\n",
    "print(\"Predicted digit:\", predicted_digit)"
   ]
  },
  {
   "cell_type": "code",
   "execution_count": 21,
   "metadata": {},
   "outputs": [
    {
     "name": "stdout",
     "output_type": "stream",
     "text": [
      "Actual digit: 8\n"
     ]
    }
   ],
   "source": [
    "print(\"Actual digit:\", y_test[0])"
   ]
  }
 ],
 "metadata": {
  "kernelspec": {
   "display_name": "cpe_env",
   "language": "python",
   "name": "python3"
  },
  "language_info": {
   "codemirror_mode": {
    "name": "ipython",
    "version": 3
   },
   "file_extension": ".py",
   "mimetype": "text/x-python",
   "name": "python",
   "nbconvert_exporter": "python",
   "pygments_lexer": "ipython3",
   "version": "3.9.21"
  }
 },
 "nbformat": 4,
 "nbformat_minor": 2
}
